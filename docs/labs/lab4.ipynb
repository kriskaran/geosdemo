{
 "cells": [
  {
   "attachments": {},
   "cell_type": "markdown",
   "id": "beb550f5",
   "metadata": {},
   "source": [
    "# Lab 4\n",
    "\n",
    "[![image](https://colab.research.google.com/assets/colab-badge.svg)](https://colab.research.google.com/github/giswqs/geosdemo/blob/master/docs/labs/lab4.ipynb)\n",
    "\n",
    "## Submission instructions\n",
    "\n",
    "1. Download the notebook from https://geosdemo.gishub.org/labs/lab4\n",
    "2. Complete the lab questions\n",
    "3. Restart Kernel and Run All Cells\n",
    "4. Upload the notebook to your GitHub repository\n",
    "5. Make sure the notebook has an `Open In Colab` badge. Click on the badge to make sure your notebook can be opened in Colab.\n",
    "6. Submit the link to the notebook on your GitHub repository to Canvas"
   ]
  },
  {
   "cell_type": "markdown",
   "id": "e54099be",
   "metadata": {},
   "source": [
    "## My Open in Colab badge:"
   ]
  },
  {
   "cell_type": "markdown",
   "id": "312638dd",
   "metadata": {},
   "source": [
    "[![Open in Colab](https://colab.research.google.com/assets/colab-badge.svg)](<https://github.com/kriskaran/geosdemo/blob/bb4c7e622a0ad7791cc7031b7b35388ff2f46f52/docs/labs/lab4.ipynb>)\n"
   ]
  },
  {
   "cell_type": "markdown",
   "id": "5c383cfa",
   "metadata": {},
   "source": [
    "I used the link from github"
   ]
  },
  {
   "cell_type": "code",
   "execution_count": 1,
   "id": "bfc1ddc5",
   "metadata": {},
   "outputs": [
    {
     "name": "stdout",
     "output_type": "stream",
     "text": [
      "Submitted time: 2023-09-22 11:24:51.394447\n"
     ]
    }
   ],
   "source": [
    "from datetime import datetime\n",
    "\n",
    "now = datetime.now()\n",
    "print(f\"Submitted time: {now}\")"
   ]
  },
  {
   "attachments": {},
   "cell_type": "markdown",
   "id": "7e96934a",
   "metadata": {},
   "source": [
    "## Question 1\n",
    "\n",
    "**Personal Message:** Use a variable to represent a person’s name, and print a message to that person. Your message should be simple, such as, “Hello Eric, would you like to learn some Python today?”"
   ]
  },
  {
   "cell_type": "code",
   "execution_count": 2,
   "id": "063a8cb4",
   "metadata": {},
   "outputs": [
    {
     "name": "stdout",
     "output_type": "stream",
     "text": [
      "Hello Chris would you like to learn some Python today?\n"
     ]
    }
   ],
   "source": [
    "name = 'chris'\n",
    "print(f'Hello {name.title()} would you like to learn some Python today?')"
   ]
  },
  {
   "attachments": {},
   "cell_type": "markdown",
   "id": "83c4c9e9",
   "metadata": {},
   "source": [
    "## Question 2\n",
    "\n",
    "**Name Cases:** Use a variable to represent a person’s name, and then print that person’s name in lowercase, uppercase, and title case."
   ]
  },
  {
   "cell_type": "code",
   "execution_count": 3,
   "id": "35cfbbec",
   "metadata": {},
   "outputs": [
    {
     "name": "stdout",
     "output_type": "stream",
     "text": [
      "jane\n",
      "JANE\n",
      "Jane\n"
     ]
    }
   ],
   "source": [
    "name2 = 'jane'\n",
    "print(name2.lower())\n",
    "print(name2.upper())\n",
    "print(name2.title())"
   ]
  },
  {
   "attachments": {},
   "cell_type": "markdown",
   "id": "8c8e92e4",
   "metadata": {},
   "source": [
    "## Question 3\n",
    "\n",
    "**Famous Quote:** Find a quote from a famous person you admire. Print the quote and the name of its author. Your output should look something like the following, including the quotation marks:\n",
    "\n",
    "```\n",
    "Albert Einstein once said, “A person who never made a mistake never tried anything new.”\n",
    "```"
   ]
  },
  {
   "cell_type": "code",
   "execution_count": 4,
   "id": "3bed6cb5",
   "metadata": {},
   "outputs": [
    {
     "name": "stdout",
     "output_type": "stream",
     "text": [
      "Chris said \"hello world\"\n"
     ]
    }
   ],
   "source": [
    "print('Chris said \"hello world\"')"
   ]
  },
  {
   "attachments": {},
   "cell_type": "markdown",
   "id": "4b46d366",
   "metadata": {},
   "source": [
    "## Question 4\n",
    "\n",
    "**Stripping Names:** Use a variable to represent a person’s name, and include some whitespace characters at the beginning and end of the name. Make sure you use each character combination, \"\\t\" and \"\\n\", at least once.\n",
    "Print the name once, so the whitespace around the name is displayed. Then print the name using each of the three stripping functions, lstrip(), rstrip(), and strip()."
   ]
  },
  {
   "cell_type": "code",
   "execution_count": 5,
   "id": "bb5dbb0f",
   "metadata": {},
   "outputs": [
    {
     "name": "stdout",
     "output_type": "stream",
     "text": [
      " Mac Chris Karanikas \n",
      " Mac Chris Karanikas\n",
      "Mac Chris Karanikas haha\thihi\n",
      "Mac Chris Karanikashaha\n",
      "hehe\n"
     ]
    }
   ],
   "source": [
    "name3 = \" Mac Chris Karanikas \"\n",
    "print(name3)\n",
    "print(name3.rstrip())\n",
    "print(name3.lstrip()+\"haha\"+'\\thihi')\n",
    "print(name3.strip()+\"haha\"+'\\nhehe')"
   ]
  },
  {
   "attachments": {},
   "cell_type": "markdown",
   "id": "32cce0d9",
   "metadata": {},
   "source": [
    "## Question 5\n",
    "\n",
    "**Names:** Store the names of a few of your friends in a list called names. Print\n",
    "each person’s name by accessing each element in the list, one at a time."
   ]
  },
  {
   "cell_type": "code",
   "execution_count": 6,
   "id": "13da6459",
   "metadata": {},
   "outputs": [
    {
     "name": "stdout",
     "output_type": "stream",
     "text": [
      "Nikos\n",
      "Maria\n",
      "Petros\n",
      "Sofia\n"
     ]
    }
   ],
   "source": [
    "names = ['nikos', 'maria', 'petros', 'sofia']\n",
    "for name in names:\n",
    "    print(name.title())"
   ]
  },
  {
   "attachments": {},
   "cell_type": "markdown",
   "id": "aaaa5c8f",
   "metadata": {},
   "source": [
    "## Question 6\n",
    "\n",
    "**Your Own List:** Think of your favorite mode of transportation, such as a motorcycle or a car, and make a list that stores several examples. Use your list to print a series of statements about these items, such as “I would like to own a Honda motorcycle.”"
   ]
  },
  {
   "cell_type": "code",
   "execution_count": 7,
   "id": "eba0829e",
   "metadata": {},
   "outputs": [
    {
     "name": "stdout",
     "output_type": "stream",
     "text": [
      "I want to buy a  toyota\n",
      "BMW is a really expensive car\n",
      "What do you think about the all new Opel\n",
      "\n",
      "I want to buy a TOYOTA...\n",
      "Toyota is a really expensive car!\n",
      "What do you think about the all new toyota?\n",
      "\n",
      "I want to buy a BMW...\n",
      "Bmw is a really expensive car!\n",
      "What do you think about the all new bmw?\n",
      "\n",
      "I want to buy a OPEL...\n",
      "Opel is a really expensive car!\n",
      "What do you think about the all new opel?\n"
     ]
    }
   ],
   "source": [
    "vehicles = ['toyota', 'bmw', 'opel']\n",
    "print('I want to buy a ', vehicles[0])\n",
    "print(f'{vehicles[1].upper()} is a really expensive car')\n",
    "print(f'What do you think about the all new {vehicles[2].title()}')\n",
    "\n",
    "for vehicle in vehicles:\n",
    "    print(f\"\\nI want to buy a {vehicle.upper()}...\"),\n",
    "    print(f'{vehicle.title()} is a really expensive car!'),\n",
    "    print(f'What do you think about the all new {vehicle}?')"
   ]
  },
  {
   "attachments": {},
   "cell_type": "markdown",
   "id": "e4b4452f",
   "metadata": {},
   "source": [
    "## Question 7\n",
    "\n",
    "**Pizzas:** Think of at least three kinds of your favorite pizza. Store these pizza names in a list, and then use a for loop to print the name of each pizza.\n",
    "\n",
    "Modify your for loop to print a sentence using the name of the pizza instead of printing just the name of the pizza. For each pizza you should have one line of output containing a simple statement like _I like pepperoni pizza._"
   ]
  },
  {
   "cell_type": "code",
   "execution_count": 8,
   "id": "37cdb68e",
   "metadata": {},
   "outputs": [
    {
     "name": "stdout",
     "output_type": "stream",
     "text": [
      "margarita\n",
      "This pizza is called Margarita.\n",
      "special\n",
      "This pizza is called Special.\n",
      "napoli\n",
      "This pizza is called Napoli.\n"
     ]
    }
   ],
   "source": [
    "pizzas = ['margarita', 'special', 'napoli']\n",
    "\n",
    "for pizza in pizzas:\n",
    "    print(pizza)\n",
    "    print(f'This pizza is called {pizza.title()}.')"
   ]
  },
  {
   "attachments": {},
   "cell_type": "markdown",
   "id": "b3b70e8e",
   "metadata": {},
   "source": [
    "Add a line at the end of your program, outside the for loop, that states how much you like pizza. The output should consist of three or more lines about the kinds of pizza you like and then an additional sentence, such as _I really love pizza!_"
   ]
  },
  {
   "cell_type": "code",
   "execution_count": 9,
   "id": "11b4528c",
   "metadata": {},
   "outputs": [
    {
     "name": "stdout",
     "output_type": "stream",
     "text": [
      "margarita\n",
      "This pizza is called Margarita.\n",
      "special\n",
      "This pizza is called Special.\n",
      "napoli\n",
      "This pizza is called Napoli.\n",
      "\n",
      "I really love pizzas!\n"
     ]
    }
   ],
   "source": [
    "izzas = ['margarita', 'special', 'napoli']\n",
    "\n",
    "for pizza in pizzas:\n",
    "    print(pizza)\n",
    "    print(f'This pizza is called {pizza.title()}.')\n",
    "\n",
    "print('\\nI really love pizzas!')"
   ]
  },
  {
   "attachments": {},
   "cell_type": "markdown",
   "id": "6e42f992",
   "metadata": {},
   "source": [
    "## Question 8\n",
    "\n",
    "**Animals:** Think of at least three different animals that have a common characteristic. Store the names of these animals in a list, and then use a for loop to print out the name of each animal.\n",
    "\n",
    "Modify your program to print a statement about each animal, such as _A dog would make a great pet._"
   ]
  },
  {
   "cell_type": "code",
   "execution_count": 10,
   "id": "7489fb55",
   "metadata": {},
   "outputs": [
    {
     "name": "stdout",
     "output_type": "stream",
     "text": [
      "Cat\n",
      "Dog\n",
      "Fish\n",
      "\n",
      "The cats are cute.\n",
      "The dogs are the best guards!\n",
      "The fish as pets need a little care.\n"
     ]
    }
   ],
   "source": [
    "animals = ['cat', 'dog', 'fish']\n",
    "\n",
    "for animal in animals:\n",
    "    print(animal.title())\n",
    "print(f'\\nThe {animals[0]}s are cute.')\n",
    "print(f'The {animals[1]}s are the best guards!')\n",
    "print(f'The {animals[2]} as pets need a little care.')"
   ]
  },
  {
   "attachments": {},
   "cell_type": "markdown",
   "id": "b4484392",
   "metadata": {},
   "source": [
    "Add a line at the end of your program stating what these animals have in common. You could print a sentence such as _Any of these animals would make a great pet!_"
   ]
  },
  {
   "cell_type": "code",
   "execution_count": 11,
   "id": "eb9f8e19",
   "metadata": {},
   "outputs": [
    {
     "name": "stdout",
     "output_type": "stream",
     "text": [
      "Cat\n",
      "Dog\n",
      "Fish\n",
      "\n",
      "The cats are cute.\n",
      "The dogs are the best guards!\n",
      "The fish as pets need a little care.\n",
      "\n",
      "Any of these animals would make a great pet!\n"
     ]
    }
   ],
   "source": [
    "animals = ['cat', 'dog', 'fish']\n",
    "\n",
    "for animal in animals:\n",
    "    print(animal.title())\n",
    "print(f'\\nThe {animals[0]}s are cute.')\n",
    "print(f'The {animals[1]}s are the best guards!')\n",
    "print(f'The {animals[2]} as pets need a little care.')\n",
    "\n",
    "print('\\nAny of these animals would make a great pet!')"
   ]
  },
  {
   "attachments": {},
   "cell_type": "markdown",
   "id": "ba99ccb5",
   "metadata": {},
   "source": [
    "## Question 9\n",
    "\n",
    "**Summing a Hundred:** Make a list of the numbers from one to one hundred, and then use `min()` and `max()` to make sure your list actually starts at one and ends at one hundred. Also, use the sum() function to see how quickly Python can add a hundred numbers."
   ]
  },
  {
   "cell_type": "code",
   "execution_count": 12,
   "id": "6c6a27a9",
   "metadata": {},
   "outputs": [
    {
     "name": "stdout",
     "output_type": "stream",
     "text": [
      "1\n",
      "100\n",
      "5050\n"
     ]
    }
   ],
   "source": [
    "numbers = range(1,101)\n",
    "# for number in numbers:\n",
    "#     print(number)\n",
    "\n",
    "minNum = min(numbers)\n",
    "print(minNum)\n",
    "maxNum = max(numbers)\n",
    "print(maxNum)\n",
    "sumNum = sum(numbers)\n",
    "print(sumNum)"
   ]
  },
  {
   "attachments": {},
   "cell_type": "markdown",
   "id": "d165cd3c",
   "metadata": {},
   "source": [
    "## Question 10\n",
    "\n",
    "**Odd Numbers:** Use the third argument of the `range()` function to make a list of the odd numbers from 1 to 20. Use a `for` loop to print each number."
   ]
  },
  {
   "cell_type": "code",
   "execution_count": 13,
   "id": "d276920a",
   "metadata": {},
   "outputs": [
    {
     "name": "stdout",
     "output_type": "stream",
     "text": [
      "1\n",
      "3\n",
      "5\n",
      "7\n",
      "9\n",
      "11\n",
      "13\n",
      "15\n",
      "17\n",
      "19\n"
     ]
    }
   ],
   "source": [
    "oddNum = list(range(1,21,2))\n",
    "#print(oddNum)\n",
    "for number in oddNum:\n",
    "    print(number)\n"
   ]
  },
  {
   "attachments": {},
   "cell_type": "markdown",
   "id": "9e49d9eb",
   "metadata": {},
   "source": [
    "## Question 11\n",
    "\n",
    "**Threes:** Make a list of the multiples of 3 from 3 to 30. Use a `for` loop to print the numbers in your list."
   ]
  },
  {
   "cell_type": "code",
   "execution_count": 14,
   "id": "4ff24fc6",
   "metadata": {},
   "outputs": [
    {
     "name": "stdout",
     "output_type": "stream",
     "text": [
      "3\n",
      "6\n",
      "9\n",
      "12\n",
      "15\n",
      "18\n",
      "21\n",
      "24\n",
      "27\n",
      "30\n"
     ]
    }
   ],
   "source": [
    "threes =list(range(3,31,3))\n",
    "#print(threes)\n",
    "for three in threes:\n",
    "    print(three)"
   ]
  },
  {
   "attachments": {},
   "cell_type": "markdown",
   "id": "dbcce457",
   "metadata": {},
   "source": [
    "## Question 12\n",
    "\n",
    "**Cube Comprehension:** Use a list comprehension to generate a list of the first 10 cubes."
   ]
  },
  {
   "cell_type": "code",
   "execution_count": 15,
   "id": "df0901f8",
   "metadata": {},
   "outputs": [
    {
     "name": "stdout",
     "output_type": "stream",
     "text": [
      "[1, 8, 27, 64, 125, 216, 343, 512, 729, 1000]\n"
     ]
    }
   ],
   "source": [
    "cubes = [number**3 for number in range(1,11)]\n",
    "print(cubes)"
   ]
  },
  {
   "attachments": {},
   "cell_type": "markdown",
   "id": "c6946e7b",
   "metadata": {},
   "source": [
    "## Question 13\n",
    "\n",
    "**Slices:** Using one of the programs you wrote in this lab, add several lines to the end of the program that do the following:\n",
    "\n",
    "Print the message _The first three items in the list are:_. Then use a slice to print the first three items from that program’s list."
   ]
  },
  {
   "cell_type": "code",
   "execution_count": 16,
   "id": "0e03e488",
   "metadata": {},
   "outputs": [
    {
     "name": "stdout",
     "output_type": "stream",
     "text": [
      "[3, 6, 9, 12, 15, 18, 21, 24, 27, 30]\n",
      "The first three items of the list are: [3, 6, 9]\n",
      "The first three items of the list are: [3, 6, 9]\n",
      "The first three items of the list are: [3, 6, 9]\n",
      "The first three items of the list are: [3, 6, 9]\n",
      "The first three items of the list are: [3, 6, 9]\n",
      "The first three items of the list are: [3, 6, 9]\n",
      "The first three items of the list are: [3, 6, 9]\n",
      "The first three items of the list are: [3, 6, 9]\n",
      "The first three items of the list are: [3, 6, 9]\n",
      "The first three items of the list are: [3, 6, 9]\n"
     ]
    }
   ],
   "source": [
    "threes =list(range(3,31,3))\n",
    "print(threes)\n",
    "for three in threes:\n",
    "    print('The first three items of the list are:', threes[0:3])"
   ]
  },
  {
   "attachments": {},
   "cell_type": "markdown",
   "id": "6f88722c",
   "metadata": {},
   "source": [
    "Print the message _Three items from the middle of the list are:_. Use a slice to print three items from the middle of the list."
   ]
  },
  {
   "cell_type": "code",
   "execution_count": 17,
   "id": "6859a061",
   "metadata": {},
   "outputs": [
    {
     "name": "stdout",
     "output_type": "stream",
     "text": [
      "[3, 6, 9, 12, 15, 18, 21, 24, 27, 30]\n",
      "The three items from middle of the list are: [15, 18, 21]\n",
      "The three items from middle of the list are: [15, 18, 21]\n",
      "The three items from middle of the list are: [15, 18, 21]\n",
      "The three items from middle of the list are: [15, 18, 21]\n",
      "The three items from middle of the list are: [15, 18, 21]\n",
      "The three items from middle of the list are: [15, 18, 21]\n",
      "The three items from middle of the list are: [15, 18, 21]\n",
      "The three items from middle of the list are: [15, 18, 21]\n",
      "The three items from middle of the list are: [15, 18, 21]\n",
      "The three items from middle of the list are: [15, 18, 21]\n"
     ]
    }
   ],
   "source": [
    "threes =list(range(3,31,3))\n",
    "print(threes)\n",
    "for three in threes:\n",
    "    print('The three items from middle of the list are:', threes[4:7])"
   ]
  },
  {
   "attachments": {},
   "cell_type": "markdown",
   "id": "0abc8cec",
   "metadata": {},
   "source": [
    "Print the message _The last three items in the list are:_. Use a slice to print the last three items in the list."
   ]
  },
  {
   "cell_type": "code",
   "execution_count": 18,
   "id": "64988cac",
   "metadata": {},
   "outputs": [
    {
     "name": "stdout",
     "output_type": "stream",
     "text": [
      "[3, 6, 9, 12, 15, 18, 21, 24, 27, 30]\n",
      "The last items of the list are: [24, 27, 30]\n",
      "The last items of the list are: [24, 27, 30]\n",
      "The last items of the list are: [24, 27, 30]\n",
      "The last items of the list are: [24, 27, 30]\n",
      "The last items of the list are: [24, 27, 30]\n",
      "The last items of the list are: [24, 27, 30]\n",
      "The last items of the list are: [24, 27, 30]\n",
      "The last items of the list are: [24, 27, 30]\n",
      "The last items of the list are: [24, 27, 30]\n",
      "The last items of the list are: [24, 27, 30]\n"
     ]
    }
   ],
   "source": [
    "threes =list(range(3,31,3))\n",
    "print(threes)\n",
    "for three in threes:\n",
    "    print('The last items of the list are:', threes[-3:])"
   ]
  },
  {
   "attachments": {},
   "cell_type": "markdown",
   "id": "36876b9d",
   "metadata": {},
   "source": [
    "## Question 14\n",
    "\n",
    "**Buffet:** A buffet-style restaurant offers only five basic foods. Think of five simple foods, and store them in a tuple.\n",
    "\n",
    "Use a for loop to print each food the restaurant offers."
   ]
  },
  {
   "attachments": {},
   "cell_type": "markdown",
   "id": "0a6ba7f3",
   "metadata": {},
   "source": [
    "The restaurant changes its menu, replacing two of the items with different foods. Add a line that rewrites the tuple, and then use a for loop to print each of the items on the revised menu."
   ]
  },
  {
   "cell_type": "code",
   "execution_count": 19,
   "id": "79b11cbc",
   "metadata": {},
   "outputs": [
    {
     "name": "stdout",
     "output_type": "stream",
     "text": [
      "The original menu is:\n",
      "pizza\n",
      "spaghetti\n",
      "soup\n",
      "burger\n",
      "chicken\n",
      "\n",
      "The revised menu is:\n",
      "pizza\n",
      "spaghetti\n",
      "soup\n",
      "hamburger\n",
      "chicken soup\n"
     ]
    }
   ],
   "source": [
    "dishes = ('pizza', 'spaghetti', 'soup', 'burger', 'chicken')\n",
    "print('The original menu is:')\n",
    "for dish in dishes:\n",
    "    print(dish)\n",
    "print('\\nThe revised menu is:')\n",
    "dishes = ('pizza', 'spaghetti', 'soup', 'hamburger', 'chicken soup')\n",
    "for dish in dishes:\n",
    "    print(dish)"
   ]
  },
  {
   "attachments": {},
   "cell_type": "markdown",
   "id": "337ac27d",
   "metadata": {},
   "source": [
    "## Question 15\n",
    "\n",
    "**Alien Colors:** Imagine an alien was just shot down in a game. Create a variable called `alien_color` and assign it a value of `green, yellow,` or `red`.\n",
    "\n",
    "-   Write an if statement to test whether the alien’s color is green. If it is, print a message that the player just earned 5 points.\n",
    "-   Write one version of this program that passes the if test and another that fails. (The version that fails will have no output.)"
   ]
  },
  {
   "cell_type": "code",
   "execution_count": 20,
   "id": "cc3198fa",
   "metadata": {},
   "outputs": [
    {
     "name": "stdout",
     "output_type": "stream",
     "text": [
      "You 've just earned five points!\n",
      "\n",
      "You 've just missed five points!\n"
     ]
    }
   ],
   "source": [
    "alien_color = ['green', 'yellow', 'red']\n",
    "color = 'green'\n",
    "if color in alien_color:\n",
    "    print(\"You 've just earned five points!\")\n",
    "color = 'black'\n",
    "if color in alien_color:\n",
    "    print(\"You 've just earned five points!\")\n",
    "\n",
    "# my test\n",
    "if color not in alien_color:\n",
    "    print(\"\\nYou 've just missed five points!\")"
   ]
  },
  {
   "attachments": {},
   "cell_type": "markdown",
   "id": "57465bab",
   "metadata": {},
   "source": [
    "## Question 16\n",
    "\n",
    "**Stages of Life:** Write an `if-elif-else` chain that determines a person’s stage of life. Set a value for the variable `age`, and then:\n",
    "\n",
    "-   If the person is less than 2 years old, print a message that the person is a baby.\n",
    "-   If the person is at least 2 years old but less than 4, print a message that the person is a toddler.\n",
    "-   If the person is at least 4 years old but less than 13, print a message that the person is a kid.\n",
    "-   If the person is at least 13 years old but less than 20, print a message that the person is a teenager.\n",
    "-   If the person is at least 20 years old but less than 65, print a message that the person is an adult."
   ]
  },
  {
   "cell_type": "code",
   "execution_count": 21,
   "id": "b09c364a",
   "metadata": {},
   "outputs": [
    {
     "name": "stdout",
     "output_type": "stream",
     "text": [
      "\n",
      "You are a(n) elder!\n"
     ]
    }
   ],
   "source": [
    "age = 75\n",
    "\n",
    "if age < 2:\n",
    "    stage_of_life = 'baby'\n",
    "elif age < 4:\n",
    "    stage_of_life = 'toddler'\n",
    "elif age < 13:\n",
    "    stage_of_life = 'kid'\n",
    "elif age < 20:\n",
    "    stage_of_life = 'teenager'\n",
    "elif age < 65:\n",
    "    stage_of_life = 'adult'\n",
    "else:\n",
    "    stage_of_life = 'elder'\n",
    "\n",
    "print(f'\\nYou are a(n) {stage_of_life}!')"
   ]
  },
  {
   "attachments": {},
   "cell_type": "markdown",
   "id": "96b3da06",
   "metadata": {},
   "source": [
    "## Question 17\n",
    "\n",
    "**Favorite Fruit:** Make a list of your favorite fruits, and then write a series of independent `if` statements that check for certain fruits in your list.\n",
    "\n",
    "-   Make a list of your three favorite fruits and call it favorite_fruits.\n",
    "-   Write five if statements. Each should check whether a certain kind of fruit is in your list. If the fruit is in your list, the if block should print a statement, such as You really like bananas!"
   ]
  },
  {
   "cell_type": "code",
   "execution_count": 22,
   "id": "fc58635c",
   "metadata": {},
   "outputs": [
    {
     "name": "stdout",
     "output_type": "stream",
     "text": [
      "You really like bananas!\n",
      "You really like oranges!\n",
      "You really like apples!\n"
     ]
    }
   ],
   "source": [
    "favorite_fruits = ['banana', 'orange', 'apple']\n",
    "\n",
    "if 'banana' in favorite_fruits:\n",
    "    print('You really like bananas!')\n",
    "if 'watermelon' in favorite_fruits:\n",
    "    print('You really like watermelons!')\n",
    "if 'orange' in favorite_fruits:\n",
    "    print('You really like oranges!')\n",
    "if 'cherry' in favorite_fruits:\n",
    "    print('You really like cherries!')\n",
    "if 'apple' in favorite_fruits:\n",
    "    print('You really like apples!')\n"
   ]
  },
  {
   "attachments": {},
   "cell_type": "markdown",
   "id": "71e4c6f1",
   "metadata": {},
   "source": [
    "## Question 18\n",
    "\n",
    "**Hello Admin:** Make a list of five or more usernames, including the name `admin`. Imagine you are writing code that will print a greeting to each user after they log in to a website. Loop through the list, and print a greeting to each user:\n",
    "\n",
    "-   If the username is 'admin', print a special greeting, such as _Hello admin, would you like to see a status report?_\n",
    "-   Otherwise, print a generic greeting, such as _Hello Jaden, thank you for logging in again_."
   ]
  },
  {
   "cell_type": "code",
   "execution_count": 23,
   "id": "651e8bf2",
   "metadata": {},
   "outputs": [
    {
     "name": "stdout",
     "output_type": "stream",
     "text": [
      "Hello Nick, thank you for logging in again!\n",
      "Hello George, thank you for logging in again!\n",
      "Hello Mary, thank you for logging in again!\n",
      "Hello admin, would you like to see a status report?\n",
      "Hello Jane, thank you for logging in again!\n",
      "Hello Mike, thank you for logging in again!\n"
     ]
    }
   ],
   "source": [
    "usernames = ['Nick', 'George', 'Mary', 'admin', 'Jane', 'Mike']\n",
    "\n",
    "for name in usernames:\n",
    "    if name == 'admin':\n",
    "        print('Hello admin, would you like to see a status report?')\n",
    "    else:\n",
    "        print(f'Hello {name}, thank you for logging in again!')"
   ]
  },
  {
   "attachments": {},
   "cell_type": "markdown",
   "id": "fd53a583",
   "metadata": {},
   "source": [
    "## Question 19\n",
    "\n",
    "**Checking Usernames:** Do the following to create a program that simulates how websites ensure that everyone has a unique username.\n",
    "\n",
    "-   Make a list of five or more usernames called `current_users`.\n",
    "-   Make another list of five usernames called `new_users`. Make sure one or two of the new usernames are also in the `current_users` list.\n",
    "-   Loop through the `new_users` list to see if each new username has already been used. If it has, print a message that the person will need to enter a new username. If a username has not been used, print a message saying that the username is available.\n",
    "-   Make sure your comparison is case insensitive. If 'John' has been used, 'JOHN' should not be accepted. (To do this, you’ll need to make a copy of `current_users` containing the lowercase versions of all existing users.)"
   ]
  },
  {
   "cell_type": "code",
   "execution_count": 24,
   "id": "9f1a4a8d",
   "metadata": {},
   "outputs": [
    {
     "name": "stdout",
     "output_type": "stream",
     "text": [
      "First solution: ['john', 'nick', 'chris', 'mary', 'joan']\n",
      "['john', 'nick', 'chris', 'mary', 'joan']\n",
      "First solution new user: ['john', 'nick', 'peppy', 'ken', 'lou']\n",
      "\n",
      "John, you have to enter a new password.\n",
      "\n",
      "Nick, you have to enter a new password.\n",
      "\n",
      "Peppy is available.\n",
      "\n",
      "Ken is available.\n",
      "\n",
      "Lou is available.\n"
     ]
    }
   ],
   "source": [
    "current_users = ['John', 'Nick', 'Chris', 'Mary', 'Joan']\n",
    "\n",
    "\n",
    "current_users_copy = []\n",
    "for user in current_users:\n",
    "    current_users_copy.append(user.lower())\n",
    "print('First solution:', current_users_copy)\n",
    "\n",
    "\n",
    "print(current_users_copy)\n",
    "\n",
    "\n",
    "\n",
    "\n",
    "\n",
    "\n",
    "new_users = ['john', 'Nick', 'Peppy', 'Ken', 'Lou']\n",
    "new_users_copy = []\n",
    "for new_user in new_users:\n",
    "    new_users_copy.append(new_user.lower())\n",
    "print('First solution new user:', new_users_copy)\n",
    "for new_user in new_users_copy:\n",
    "    if new_user in current_users_copy:\n",
    "        print(f'\\n{new_user.title()}, you have to enter a new password.')\n",
    "    else:\n",
    "        print(f'\\n{new_user.title()} is available.')\n",
    "\n"
   ]
  },
  {
   "attachments": {},
   "cell_type": "markdown",
   "id": "20f8412b",
   "metadata": {},
   "source": [
    "## Question 20\n",
    "\n",
    "**Ordinal Numbers:** Ordinal numbers indicate their position in a list, such as _1st_ or _2nd_. Most ordinal numbers end in _th_, except 1, 2, and 3.\n",
    "\n",
    "-   Store the numbers 1 through 9 in a list.\n",
    "-   Loop through the list.\n",
    "-   Use an `if-elif-else` chain inside the loop to print the proper ordinal ending for each number. Your output should read \"1st 2nd 3rd 4th 5th 6th 7th 8th 9th\", and each result should be on a separate line."
   ]
  },
  {
   "cell_type": "code",
   "execution_count": 25,
   "id": "6231e1e4",
   "metadata": {},
   "outputs": [
    {
     "name": "stdout",
     "output_type": "stream",
     "text": [
      "[1, 2, 3, 4, 5, 6, 7, 8, 9]\n",
      "1st\n",
      "2nd\n",
      "3rd\n",
      "4th\n",
      "5th\n",
      "6th\n",
      "7th\n",
      "8th\n",
      "9th\n"
     ]
    }
   ],
   "source": [
    "numbers = list(range(1,10, 1)) \n",
    "print(numbers)\n",
    "for number in numbers:\n",
    "    if number == 1:\n",
    "        print(str(number)+'st')\n",
    "    elif number == 2:\n",
    "        print(str(number)+'nd')\n",
    "    elif number == 3:\n",
    "        print(str(number)+'rd')\n",
    "    else:\n",
    "        print(str(number)+'th')\n"
   ]
  }
 ],
 "metadata": {
  "kernelspec": {
   "display_name": "Python 3",
   "language": "python",
   "name": "python3"
  },
  "language_info": {
   "codemirror_mode": {
    "name": "ipython",
    "version": 3
   },
   "file_extension": ".py",
   "mimetype": "text/x-python",
   "name": "python",
   "nbconvert_exporter": "python",
   "pygments_lexer": "ipython3",
   "version": "3.9.16"
  }
 },
 "nbformat": 4,
 "nbformat_minor": 5
}
